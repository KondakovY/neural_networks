{
 "cells": [
  {
   "cell_type": "markdown",
   "metadata": {
    "id": "-iaxmfqSrWPF"
   },
   "source": [
    "## Домашнее задание:"
   ]
  },
  {
   "cell_type": "markdown",
   "metadata": {},
   "source": [
    "1. Попробуйте изменить параметры нейронной сети, работающей с датасетом imdb, либонейронной сети, работающей airline-passengers (она прилагается вместе с датасетом куроку в виде отдельного скрипта) так, чтобы улучшить её точность. Приложите анализ.\n",
    "\n",
    "\n",
    "2. Попробуйте изменить параметры нейронной сети, генерирующей текст таким образом, чтобы добиться генерации как можно более осмысленного текста. Пришлите лучший текст из получившихся и опишите предпринятые для его получения действия. Можно использовать текст другого произведения."
   ]
  },
  {
   "cell_type": "code",
   "execution_count": 38,
   "metadata": {
    "id": "xB2-JRXjrq_s"
   },
   "outputs": [],
   "source": [
    "from __future__ import print_function\n",
    "\n",
    "import tensorflow as tf\n",
    "from tensorflow import keras\n",
    "from tensorflow.keras.preprocessing import sequence\n",
    "from tensorflow.keras.models import Sequential\n",
    "from tensorflow.keras.layers import Dense, Embedding\n",
    "from tensorflow.keras.layers import LSTM\n",
    "from tensorflow.keras.datasets import imdb\n",
    "from tensorflow.keras.layers import Dense, Dropout, Activation, Flatten, Conv2D, MaxPooling2D\n",
    "import os\n",
    "import matplotlib.pyplot as plt"
   ]
  },
  {
   "cell_type": "code",
   "execution_count": 39,
   "metadata": {
    "colab": {
     "base_uri": "https://localhost:8080/"
    },
    "id": "j-XQYP4Br7i0",
    "outputId": "27474e88-e34a-4336-a8f7-64fc68d06e10"
   },
   "outputs": [
    {
     "data": {
      "text/plain": [
       "True"
      ]
     },
     "execution_count": 39,
     "metadata": {},
     "output_type": "execute_result"
    }
   ],
   "source": [
    "tf.test.is_built_with_cuda()"
   ]
  },
  {
   "cell_type": "code",
   "execution_count": 40,
   "metadata": {
    "colab": {
     "base_uri": "https://localhost:8080/"
    },
    "id": "y9uT-rl8r97a",
    "outputId": "fb9b4d4d-8c45-4d2a-ce63-4876dd224e1e"
   },
   "outputs": [
    {
     "data": {
      "text/plain": [
       "[PhysicalDevice(name='/physical_device:CPU:0', device_type='CPU'),\n",
       " PhysicalDevice(name='/physical_device:GPU:0', device_type='GPU')]"
      ]
     },
     "execution_count": 40,
     "metadata": {},
     "output_type": "execute_result"
    }
   ],
   "source": [
    "tf.config.list_physical_devices()"
   ]
  },
  {
   "cell_type": "markdown",
   "metadata": {
    "id": "kbWfDDp5sHiq"
   },
   "source": [
    "### IMDB reviews (keras)"
   ]
  },
  {
   "cell_type": "code",
   "execution_count": 41,
   "metadata": {
    "id": "AKkijcYIscjr"
   },
   "outputs": [],
   "source": [
    "max_features = 20000\n",
    "\n",
    "# обрезание текстов после данного количества слов (среди top max_features наиболее используемые слова)\n",
    "maxlen = 80\n",
    "batch_size = 64 # увеличьте значение для ускорения обучения\n",
    "epochs = 2"
   ]
  },
  {
   "cell_type": "code",
   "execution_count": 42,
   "metadata": {
    "colab": {
     "base_uri": "https://localhost:8080/"
    },
    "id": "E4kxnUZSslSf",
    "outputId": "ecebe796-2938-4168-c75f-e20a798cc40e"
   },
   "outputs": [
    {
     "name": "stdout",
     "output_type": "stream",
     "text": [
      "Загрузка данных...\n"
     ]
    }
   ],
   "source": [
    "print('Загрузка данных...')\n",
    "(x_train, y_train), (x_test, y_test) = imdb.load_data(num_words=max_features)"
   ]
  },
  {
   "cell_type": "code",
   "execution_count": 43,
   "metadata": {
    "id": "8Gw5gZZTsrgH"
   },
   "outputs": [],
   "source": [
    "# Retrieve the word index file mapping words to indices\n",
    "word_index = imdb.get_word_index()\n",
    "# Reverse the word index to obtain a dict mapping indices to words\n",
    "inverted_word_index = dict((i, word) for (word, i) in word_index.items())\n",
    "# Decode the first sequence in the dataset\n",
    "decoded_sequence = \" \".join(inverted_word_index[i] for i in x_train[0])"
   ]
  },
  {
   "cell_type": "code",
   "execution_count": 44,
   "metadata": {
    "colab": {
     "base_uri": "https://localhost:8080/",
     "height": 112
    },
    "id": "rCBfRCd-suIe",
    "outputId": "2cd2e31d-7966-4967-d75e-c8599e1ab24a"
   },
   "outputs": [
    {
     "data": {
      "application/vnd.google.colaboratory.intrinsic+json": {
       "type": "string"
      },
      "text/plain": [
       "\"the as you with out themselves powerful lets loves their becomes reaching had journalist of lot from anyone to have after out atmosphere never more room and it so heart shows to years of every never going and help moments or of every chest visual movie except her was several of enough more with is now current film as you of mine potentially unfortunately of you than him that with out themselves her get for was camp of you movie sometimes movie that with scary but pratfalls to story wonderful that in seeing in character to of 70s musicians with heart had shadows they of here that with her serious to have does when from why what have critics they is you that isn't one will very to as itself with other tricky in of seen over landed for anyone of and br show's to whether from than out themselves history he name half some br of 'n odd was two most of mean for 1 any an boat she he should is thought frog but of script you not while history he heart to real at barrel but when from one bit then have two of script their with her nobody most that with wasn't to with armed acting watch an for with heartfelt film want an\""
      ]
     },
     "execution_count": 44,
     "metadata": {},
     "output_type": "execute_result"
    }
   ],
   "source": [
    "decoded_sequence"
   ]
  },
  {
   "cell_type": "code",
   "execution_count": 45,
   "metadata": {
    "colab": {
     "base_uri": "https://localhost:8080/"
    },
    "id": "x7u49xyAswof",
    "outputId": "190a717b-f40b-4c90-8bb3-0d51133323a7"
   },
   "outputs": [
    {
     "name": "stdout",
     "output_type": "stream",
     "text": [
      "25000 тренировочные последовательности\n",
      "25000 тестовые последовательности\n"
     ]
    }
   ],
   "source": [
    "print(len(x_train), 'тренировочные последовательности')\n",
    "print(len(x_test), 'тестовые последовательности')"
   ]
  },
  {
   "cell_type": "code",
   "execution_count": 46,
   "metadata": {
    "colab": {
     "base_uri": "https://localhost:8080/"
    },
    "id": "xx4mOHZfs07E",
    "outputId": "af86b5ea-36af-4c28-ede3-c09e7bcd4066"
   },
   "outputs": [
    {
     "data": {
      "text/plain": [
       "218"
      ]
     },
     "execution_count": 46,
     "metadata": {},
     "output_type": "execute_result"
    }
   ],
   "source": [
    "len(x_train[0])"
   ]
  },
  {
   "cell_type": "code",
   "execution_count": 47,
   "metadata": {
    "colab": {
     "base_uri": "https://localhost:8080/"
    },
    "id": "scswLqAPs5HI",
    "outputId": "d169f3d5-634e-484d-d98c-7b06c7d294e8"
   },
   "outputs": [
    {
     "data": {
      "text/plain": [
       "99"
      ]
     },
     "execution_count": 47,
     "metadata": {},
     "output_type": "execute_result"
    }
   ],
   "source": [
    "len(x_train[11])"
   ]
  },
  {
   "cell_type": "code",
   "execution_count": 48,
   "metadata": {
    "colab": {
     "base_uri": "https://localhost:8080/"
    },
    "id": "wTlh7yOOs5PC",
    "outputId": "a1a0be7f-fed0-451a-fcfb-f533650dd6b4"
   },
   "outputs": [
    {
     "name": "stdout",
     "output_type": "stream",
     "text": [
      "x_train shape: (25000, 80)\n",
      "x_test shape: (25000, 80)\n"
     ]
    }
   ],
   "source": [
    "x_train = sequence.pad_sequences(x_train, maxlen=maxlen)\n",
    "x_test = sequence.pad_sequences(x_test, maxlen=maxlen)\n",
    "print('x_train shape:', x_train.shape)\n",
    "print('x_test shape:', x_test.shape)"
   ]
  },
  {
   "cell_type": "code",
   "execution_count": 49,
   "metadata": {
    "colab": {
     "base_uri": "https://localhost:8080/"
    },
    "id": "Ru2TyzuUs_Ky",
    "outputId": "204a90e3-1a76-49cc-cf36-ea3c01d619d1"
   },
   "outputs": [
    {
     "data": {
      "text/plain": [
       "20000"
      ]
     },
     "execution_count": 49,
     "metadata": {},
     "output_type": "execute_result"
    }
   ],
   "source": [
    "max_features"
   ]
  },
  {
   "cell_type": "code",
   "execution_count": 51,
   "metadata": {
    "id": "qdCXSjLPtEEW"
   },
   "outputs": [],
   "source": [
    "layer = Embedding(max_features, 128)"
   ]
  },
  {
   "cell_type": "code",
   "execution_count": 52,
   "metadata": {
    "colab": {
     "base_uri": "https://localhost:8080/"
    },
    "id": "tl16LibttTF5",
    "outputId": "76af35cb-8253-40ec-8aa6-888ee89c4f3f"
   },
   "outputs": [
    {
     "data": {
      "text/plain": [
       "TensorShape([80, 128])"
      ]
     },
     "execution_count": 52,
     "metadata": {},
     "output_type": "execute_result"
    }
   ],
   "source": [
    "layer(x_train[0]).shape"
   ]
  },
  {
   "cell_type": "code",
   "execution_count": 53,
   "metadata": {
    "colab": {
     "base_uri": "https://localhost:8080/"
    },
    "id": "ZQY6N3UFtURH",
    "outputId": "c76f0f27-97c0-4f8a-ec84-002128f19849"
   },
   "outputs": [
    {
     "data": {
      "text/plain": [
       "TensorShape([80, 128])"
      ]
     },
     "execution_count": 53,
     "metadata": {},
     "output_type": "execute_result"
    }
   ],
   "source": [
    "layer(x_train[11]).shape"
   ]
  },
  {
   "cell_type": "code",
   "execution_count": 54,
   "metadata": {
    "colab": {
     "base_uri": "https://localhost:8080/"
    },
    "id": "SR3qzvBRtcnA",
    "outputId": "c4096172-4373-4833-c600-3e400f817a20"
   },
   "outputs": [
    {
     "name": "stdout",
     "output_type": "stream",
     "text": [
      "Построение модели...\n",
      "WARNING:tensorflow:Layer lstm_3 will not use cuDNN kernels since it doesn't meet the criteria. It will use a generic GPU kernel as fallback when running on GPU.\n"
     ]
    }
   ],
   "source": [
    "print('Построение модели...')\n",
    "model = Sequential()\n",
    "model.add(Embedding(max_features, 128))\n",
    "model.add(Dropout(0.2))\n",
    "model.add(LSTM(128, dropout=0.2, recurrent_dropout=0.2))\n",
    "model.add(Dense(128, activation='relu'))\n",
    "model.add(Dense(1, activation='sigmoid'))"
   ]
  },
  {
   "cell_type": "code",
   "execution_count": 55,
   "metadata": {
    "colab": {
     "base_uri": "https://localhost:8080/"
    },
    "id": "QhDnMWvtuLIx",
    "outputId": "be38817c-0c15-4d57-ae2c-d1271f98e2de"
   },
   "outputs": [
    {
     "name": "stdout",
     "output_type": "stream",
     "text": [
      "Model: \"sequential_3\"\n",
      "_________________________________________________________________\n",
      " Layer (type)                Output Shape              Param #   \n",
      "=================================================================\n",
      " embedding_6 (Embedding)     (None, None, 128)         2560000   \n",
      "                                                                 \n",
      " dropout_3 (Dropout)         (None, None, 128)         0         \n",
      "                                                                 \n",
      " lstm_3 (LSTM)               (None, 128)               131584    \n",
      "                                                                 \n",
      " dense_5 (Dense)             (None, 128)               16512     \n",
      "                                                                 \n",
      " dense_6 (Dense)             (None, 1)                 129       \n",
      "                                                                 \n",
      "=================================================================\n",
      "Total params: 2,708,225\n",
      "Trainable params: 2,708,225\n",
      "Non-trainable params: 0\n",
      "_________________________________________________________________\n"
     ]
    }
   ],
   "source": [
    "model.summary()"
   ]
  },
  {
   "cell_type": "code",
   "execution_count": 56,
   "metadata": {
    "colab": {
     "base_uri": "https://localhost:8080/",
     "height": 644
    },
    "id": "JDJpGqnMuTax",
    "outputId": "028ad957-8746-44a8-bf7e-c663af60ae30"
   },
   "outputs": [
    {
     "data": {
      "image/png": "[encoded data removed]",
      "text/plain": [
       "<IPython.core.display.Image object>"
      ]
     },
     "execution_count": 56,
     "metadata": {},
     "output_type": "execute_result"
    }
   ],
   "source": [
    "from keras.utils.vis_utils import plot_model\n",
    "\n",
    "plot_model(model, show_shapes=True, show_layer_names=True)"
   ]
  },
  {
   "cell_type": "code",
   "execution_count": 57,
   "metadata": {
    "id": "SG8dSy_Dtw4n"
   },
   "outputs": [],
   "source": [
    "opt = keras.optimizers.RMSprop(learning_rate=0.005, decay=2e-4)\n",
    "\n",
    "model.compile(loss='binary_crossentropy',\n",
    "              optimizer=opt,\n",
    "              metrics=['accuracy'])"
   ]
  },
  {
   "cell_type": "code",
   "execution_count": 58,
   "metadata": {
    "colab": {
     "base_uri": "https://localhost:8080/"
    },
    "id": "G_gKyUcjt4Mj",
    "outputId": "9dfa4201-c390-4d6e-b93e-bc99f417e54d"
   },
   "outputs": [
    {
     "name": "stdout",
     "output_type": "stream",
     "text": [
      "Процесс обучения...\n",
      "Epoch 1/2\n",
      "391/391 [==============================] - 136s 341ms/step - loss: 0.5572 - accuracy: 0.7055 - val_loss: 0.3835 - val_accuracy: 0.8359\n",
      "Epoch 2/2\n",
      "391/391 [==============================] - 132s 338ms/step - loss: 0.3189 - accuracy: 0.8655 - val_loss: 0.3410 - val_accuracy: 0.8587\n"
     ]
    }
   ],
   "source": [
    "print('Процесс обучения...')\n",
    "history = model.fit(x_train, y_train,\n",
    "              batch_size=batch_size,\n",
    "              epochs=epochs, \n",
    "              validation_data=(x_test, y_test))"
   ]
  },
  {
   "cell_type": "code",
   "execution_count": 59,
   "metadata": {
    "colab": {
     "base_uri": "https://localhost:8080/"
    },
    "id": "VABmBUzYt7W4",
    "outputId": "0ff66377-e979-4d91-8926-bfc638732bf2"
   },
   "outputs": [
    {
     "name": "stdout",
     "output_type": "stream",
     "text": [
      "391/391 [==============================] - 9s 22ms/step - loss: 0.3410 - accuracy: 0.8587\n"
     ]
    }
   ],
   "source": [
    "score, acc = model.evaluate(x_test, y_test,\n",
    "                            batch_size=batch_size)"
   ]
  },
  {
   "cell_type": "code",
   "execution_count": 60,
   "metadata": {
    "colab": {
     "base_uri": "https://localhost:8080/"
    },
    "id": "ZXxUZD_Bt-6B",
    "outputId": "ce91fcce-00ef-42ce-e464-5a3819a342fc"
   },
   "outputs": [
    {
     "name": "stdout",
     "output_type": "stream",
     "text": [
      "Результат при тестировании: 0.3409850001335144\n",
      "Тестовая точность: 0.858680009841919\n"
     ]
    }
   ],
   "source": [
    "print('Результат при тестировании:', score)\n",
    "print('Тестовая точность:', acc)"
   ]
  },
  {
   "cell_type": "code",
   "execution_count": 61,
   "metadata": {
    "colab": {
     "base_uri": "https://localhost:8080/",
     "height": 608
    },
    "id": "CCNkzUdmvJRC",
    "outputId": "f3674eab-e180-4995-8ecd-bcef01fb9e9f"
   },
   "outputs": [
    {
     "data": {
      "image/png": "[encoded data removed]",
      "text/plain": [
       "<Figure size 1800x720 with 2 Axes>"
      ]
     },
     "metadata": {
      "needs_background": "light"
     },
     "output_type": "display_data"
    }
   ],
   "source": [
    "acc = history.history['accuracy']\n",
    "val_acc = history.history['val_accuracy']\n",
    "\n",
    "loss = history.history['loss']\n",
    "val_loss = history.history['val_loss']\n",
    "\n",
    "epochs_range = range(epochs)\n",
    "\n",
    "plt.figure(figsize=(25,10))\n",
    "plt.subplot(1, 2, 1)\n",
    "plt.plot(epochs_range, acc, label='Точность на обучении')\n",
    "plt.plot(epochs_range, val_acc, label='Точность на валидации')\n",
    "plt.legend(loc='lower right')\n",
    "plt.title('Точность на обучающих и валидационных данных')\n",
    "\n",
    "plt.subplot(1, 2, 2)\n",
    "plt.plot(epochs_range, loss, label='Потери на обучении')\n",
    "plt.plot(epochs_range, val_loss, label='Потери на валидации')\n",
    "plt.legend(loc='upper right')\n",
    "plt.title('Потери на обучающих и валидационных данных')\n",
    "plt.savefig('./foo.png')\n",
    "plt.show()"
   ]
  },
  {
   "cell_type": "markdown",
   "metadata": {
    "id": "CdLRemurDZre"
   },
   "source": [
    "### Генерация текста на основе книжки «Алиса в стране чудес»"
   ]
  },
  {
   "cell_type": "code",
   "execution_count": 63,
   "metadata": {
    "id": "UHzRjfuQDojz"
   },
   "outputs": [],
   "source": [
    "import numpy as np\n",
    "from tensorflow.keras.layers import Dense, Activation\n",
    "from tensorflow.keras.layers import SimpleRNN, LSTM, GRU\n",
    "from tensorflow.keras.models import Sequential"
   ]
  },
  {
   "cell_type": "code",
   "execution_count": 64,
   "metadata": {
    "colab": {
     "base_uri": "https://localhost:8080/"
    },
    "id": "GNrO3RZ9Dchb",
    "outputId": "40a05395-fd62-4d59-dbae-e9d58d5d4e0f"
   },
   "outputs": [
    {
     "name": "stdout",
     "output_type": "stream",
     "text": [
      "--2022-07-18 11:27:08--  https://drive.google.com/uc?export=download&confirm=no_antivirus&id=1U9wqadeR4HeYEyg2JlpPQonoQrdQYALJ\n",
      "Resolving drive.google.com (drive.google.com)... 172.253.62.101, 172.253.62.139, 172.253.62.113, ...\n",
      "Connecting to drive.google.com (drive.google.com)|172.253.62.101|:443... connected.\n",
      "HTTP request sent, awaiting response... 303 See Other\n",
      "Location: https://doc-0s-18-docs.googleusercontent.com/docs/securesc/ha0ro937gcuc7l7deffksulhg5h7mbp1/abajt3np0cng4ansb3tt2m4j0t6guirn/1658143575000/06840004559052771215/*/1U9wqadeR4HeYEyg2JlpPQonoQrdQYALJ?e=download&uuid=2a02a78f-64b0-4897-8c05-31b6630d2cd3 [following]\n",
      "Warning: wildcards not supported in HTTP.\n",
      "--2022-07-18 11:27:09--  https://doc-0s-18-docs.googleusercontent.com/docs/securesc/ha0ro937gcuc7l7deffksulhg5h7mbp1/abajt3np0cng4ansb3tt2m4j0t6guirn/1658143575000/06840004559052771215/*/1U9wqadeR4HeYEyg2JlpPQonoQrdQYALJ?e=download&uuid=2a02a78f-64b0-4897-8c05-31b6630d2cd3\n",
      "Resolving doc-0s-18-docs.googleusercontent.com (doc-0s-18-docs.googleusercontent.com)... 142.250.31.132, 2607:f8b0:4004:c0b::84\n",
      "Connecting to doc-0s-18-docs.googleusercontent.com (doc-0s-18-docs.googleusercontent.com)|142.250.31.132|:443... connected.\n",
      "HTTP request sent, awaiting response... 200 OK\n",
      "Length: 60579 (59K) [application/zip]\n",
      "Saving to: ‘alice_in_wonderland.zip’\n",
      "\n",
      "alice_in_wonderland 100%[===================>]  59.16K  --.-KB/s    in 0s      \n",
      "\n",
      "2022-07-18 11:27:09 (143 MB/s) - ‘alice_in_wonderland.zip’ saved [60579/60579]\n",
      "\n"
     ]
    }
   ],
   "source": [
    "!wget 'https://drive.google.com/uc?export=download&confirm=no_antivirus&id=1U9wqadeR4HeYEyg2JlpPQonoQrdQYALJ' -O alice_in_wonderland.zip"
   ]
  },
  {
   "cell_type": "code",
   "execution_count": 65,
   "metadata": {
    "colab": {
     "base_uri": "https://localhost:8080/"
    },
    "id": "UU79qQdHDdTi",
    "outputId": "1d13c2d2-6cb2-4983-b5f2-f8c28896947e"
   },
   "outputs": [
    {
     "name": "stdout",
     "output_type": "stream",
     "text": [
      "Archive:  alice_in_wonderland.zip\n",
      "  inflating: alice_in_wonderland.txt  \n"
     ]
    }
   ],
   "source": [
    "!unzip alice_in_wonderland.zip"
   ]
  },
  {
   "cell_type": "code",
   "execution_count": 66,
   "metadata": {
    "id": "kuI77wZgDtdF"
   },
   "outputs": [],
   "source": [
    "# построчное чтение из примера с текстом \n",
    "with open(\"alice_in_wonderland.txt\", 'rb') as _in:\n",
    "    lines = []\n",
    "    for line in _in:\n",
    "        line = line.strip().lower().decode(\"ascii\", \"ignore\")\n",
    "        if len(line) == 0:\n",
    "            continue\n",
    "        lines.append(line)\n",
    "text = \" \".join(lines)\n",
    "chars = set(text)\n",
    "nb_chars = len(chars)"
   ]
  },
  {
   "cell_type": "code",
   "execution_count": 67,
   "metadata": {
    "colab": {
     "base_uri": "https://localhost:8080/"
    },
    "id": "CtKe0QjTDwTB",
    "outputId": "db68c2bb-d184-40e3-b94f-b19146aa163e"
   },
   "outputs": [
    {
     "data": {
      "text/plain": [
       "55"
      ]
     },
     "execution_count": 67,
     "metadata": {},
     "output_type": "execute_result"
    }
   ],
   "source": [
    "len(chars)"
   ]
  },
  {
   "cell_type": "code",
   "execution_count": 68,
   "metadata": {
    "id": "MjOdqYzyDz-D"
   },
   "outputs": [],
   "source": [
    "char2index = {c: i for i, c in enumerate(chars)}\n",
    "index2char = {i: c for i, c in enumerate(chars)}"
   ]
  },
  {
   "cell_type": "code",
   "execution_count": 82,
   "metadata": {
    "id": "v_W6lcFtD6Ax"
   },
   "outputs": [],
   "source": [
    "# для удобства выберете фиксированную длину последовательность 10 символов \n",
    "SEQLEN, STEP = 10, 1\n",
    "input_chars, label_chars = [], []\n",
    "\n",
    "# конвертация data в серии разных SEQLEN-length субпоследовательностей\n",
    "for i in range(0, len(text) - SEQLEN, STEP):\n",
    "    input_chars.append(text[i: i + SEQLEN])\n",
    "    label_chars.append(text[i + SEQLEN])"
   ]
  },
  {
   "cell_type": "code",
   "execution_count": 83,
   "metadata": {
    "colab": {
     "base_uri": "https://localhost:8080/"
    },
    "id": "5V4C0YRgD8tv",
    "outputId": "d9b511a8-e522-4390-8f87-31f96445763a"
   },
   "outputs": [
    {
     "data": {
      "text/plain": [
       "158773"
      ]
     },
     "execution_count": 83,
     "metadata": {},
     "output_type": "execute_result"
    }
   ],
   "source": [
    "len(input_chars)"
   ]
  },
  {
   "cell_type": "code",
   "execution_count": 84,
   "metadata": {
    "colab": {
     "base_uri": "https://localhost:8080/"
    },
    "id": "isPfXo1gD_2I",
    "outputId": "dd4d63e1-2f3c-445f-916a-7714c4f04a61"
   },
   "outputs": [
    {
     "data": {
      "text/plain": [
       "('project gu', 't')"
      ]
     },
     "execution_count": 84,
     "metadata": {},
     "output_type": "execute_result"
    }
   ],
   "source": [
    "input_chars[0], label_chars[0]"
   ]
  },
  {
   "cell_type": "code",
   "execution_count": 85,
   "metadata": {
    "colab": {
     "base_uri": "https://localhost:8080/"
    },
    "id": "K2aX88JMEELs",
    "outputId": "529c291f-9247-4757-cbb1-d503fcea21ea"
   },
   "outputs": [
    {
     "data": {
      "text/plain": [
       "('roject gut', 'e')"
      ]
     },
     "execution_count": 85,
     "metadata": {},
     "output_type": "execute_result"
    }
   ],
   "source": [
    "input_chars[1], label_chars[1]"
   ]
  },
  {
   "cell_type": "code",
   "execution_count": 86,
   "metadata": {
    "colab": {
     "base_uri": "https://localhost:8080/"
    },
    "id": "9wgzVgCnEHRn",
    "outputId": "f6dac0fc-fe99-4c4d-fae4-00e2bd39df92"
   },
   "outputs": [
    {
     "name": "stderr",
     "output_type": "stream",
     "text": [
      "/usr/local/lib/python3.7/dist-packages/ipykernel_launcher.py:3: DeprecationWarning: `np.bool` is a deprecated alias for the builtin `bool`. To silence this warning, use `bool` by itself. Doing this will not modify any behavior and is safe. If you specifically wanted the numpy scalar type, use `np.bool_` here.\n",
      "Deprecated in NumPy 1.20; for more details and guidance: https://numpy.org/devdocs/release/1.20.0-notes.html#deprecations\n",
      "  This is separate from the ipykernel package so we can avoid doing imports until\n",
      "/usr/local/lib/python3.7/dist-packages/ipykernel_launcher.py:4: DeprecationWarning: `np.bool` is a deprecated alias for the builtin `bool`. To silence this warning, use `bool` by itself. Doing this will not modify any behavior and is safe. If you specifically wanted the numpy scalar type, use `np.bool_` here.\n",
      "Deprecated in NumPy 1.20; for more details and guidance: https://numpy.org/devdocs/release/1.20.0-notes.html#deprecations\n",
      "  after removing the cwd from sys.path.\n"
     ]
    }
   ],
   "source": [
    "# Вычисление one-hot encoding входных последовательностей X и следующего символа (the label) y\n",
    "\n",
    "X = np.zeros((len(input_chars), SEQLEN, nb_chars), dtype=np.bool)\n",
    "y = np.zeros((len(input_chars), nb_chars), dtype=np.bool)\n",
    "for i, input_char in enumerate(input_chars):\n",
    "    for j, ch in enumerate(input_char):\n",
    "        X[i, j, char2index[ch]] = 1\n",
    "    y[i, char2index[label_chars[i]]] = 1"
   ]
  },
  {
   "cell_type": "code",
   "execution_count": 88,
   "metadata": {
    "colab": {
     "base_uri": "https://localhost:8080/"
    },
    "id": "drbB1iI7EKkP",
    "outputId": "5096eba8-3e30-4ded-ad4b-4809e2a6732a"
   },
   "outputs": [
    {
     "data": {
      "text/plain": [
       "(158773, 10, 55)"
      ]
     },
     "execution_count": 88,
     "metadata": {},
     "output_type": "execute_result"
    }
   ],
   "source": [
    "X.shape"
   ]
  },
  {
   "cell_type": "code",
   "execution_count": 89,
   "metadata": {
    "id": "8P2v1SF1ESqa"
   },
   "outputs": [],
   "source": [
    "# установка ряда метапамертров  для нейронной сети и процесса тренировки\n",
    "BATCH_SIZE, HIDDEN_SIZE = 256, 256\n",
    "NUM_ITERATIONS = 30 # 25 должно быть достаточно\n",
    "NUM_EPOCHS_PER_ITERATION = 5\n",
    "NUM_PREDS_PER_EPOCH = 100"
   ]
  },
  {
   "cell_type": "code",
   "execution_count": 90,
   "metadata": {
    "colab": {
     "base_uri": "https://localhost:8080/"
    },
    "id": "OVBIPswsEVkO",
    "outputId": "a63e49f2-e899-486d-9671-d7317c6d6b40"
   },
   "outputs": [
    {
     "name": "stdout",
     "output_type": "stream",
     "text": [
      "WARNING:tensorflow:Layer lstm_6 will not use cuDNN kernels since it doesn't meet the criteria. It will use a generic GPU kernel as fallback when running on GPU.\n"
     ]
    }
   ],
   "source": [
    "model = Sequential()\n",
    "model.add(\n",
    "    LSTM(  # вы можете изменить эту часть на LSTM или SimpleRNN, чтобы попробовать альтернативы\n",
    "        HIDDEN_SIZE,\n",
    "        return_sequences=False,\n",
    "        input_shape=(SEQLEN, nb_chars),\n",
    "        unroll=True\n",
    "    )\n",
    ")\n",
    "model.add(Dense(nb_chars))\n",
    "model.add(Activation(\"softmax\"))\n",
    "model.compile(loss=\"categorical_crossentropy\", optimizer=\"rmsprop\")"
   ]
  },
  {
   "cell_type": "code",
   "execution_count": 91,
   "metadata": {
    "colab": {
     "base_uri": "https://localhost:8080/"
    },
    "id": "YMQHbladEe2i",
    "outputId": "7bf41db9-3549-4b1c-ea13-948c5e7ed553"
   },
   "outputs": [
    {
     "name": "stdout",
     "output_type": "stream",
     "text": [
      "==================================================\n",
      "Итерация #: 0\n",
      "Epoch 1/5\n",
      "621/621 [==============================] - 5s 6ms/step - loss: 2.4749\n",
      "Epoch 2/5\n",
      "621/621 [==============================] - 3s 6ms/step - loss: 2.0376\n",
      "Epoch 3/5\n",
      "621/621 [==============================] - 4s 6ms/step - loss: 1.8344\n",
      "Epoch 4/5\n",
      "621/621 [==============================] - 4s 6ms/step - loss: 1.6924\n",
      "Epoch 5/5\n",
      "621/621 [==============================] - 4s 6ms/step - loss: 1.5817\n",
      "Генерация из посева: d not come\n",
      "d not come the sear the caterpillar what she said the caterpillar what she said the caterpillar what she said ==================================================\n",
      "Итерация #: 1\n",
      "Epoch 1/5\n",
      "621/621 [==============================] - 4s 6ms/step - loss: 1.4928\n",
      "Epoch 2/5\n",
      "621/621 [==============================] - 4s 6ms/step - loss: 1.4174\n",
      "Epoch 3/5\n",
      "621/621 [==============================] - 4s 6ms/step - loss: 1.3524\n",
      "Epoch 4/5\n",
      "621/621 [==============================] - 4s 6ms/step - loss: 1.2950\n",
      "Epoch 5/5\n",
      "621/621 [==============================] - 4s 6ms/step - loss: 1.2438\n",
      "Генерация из посева: , put em u\n",
      ", put em un on a the stall of the thing to be a little things the dormouse soon as he spoke, and the mock turt==================================================\n",
      "Итерация #: 2\n",
      "Epoch 1/5\n",
      "621/621 [==============================] - 4s 6ms/step - loss: 1.1964\n",
      "Epoch 2/5\n",
      "621/621 [==============================] - 4s 6ms/step - loss: 1.1517\n",
      "Epoch 3/5\n",
      "621/621 [==============================] - 4s 6ms/step - loss: 1.1099\n",
      "Epoch 4/5\n",
      "621/621 [==============================] - 4s 6ms/step - loss: 1.0686\n",
      "Epoch 5/5\n",
      "621/621 [==============================] - 4s 6ms/step - loss: 1.0299\n",
      "Генерация из посева: l only loo\n",
      "l only looking at the hatter. i dont know what it means me felt very soon fan you, who had not a moment the do==================================================\n",
      "Итерация #: 3\n",
      "Epoch 1/5\n",
      "621/621 [==============================] - 4s 6ms/step - loss: 0.9917\n",
      "Epoch 2/5\n",
      "621/621 [==============================] - 4s 6ms/step - loss: 0.9545\n",
      "Epoch 3/5\n",
      "621/621 [==============================] - 4s 6ms/step - loss: 0.9191\n",
      "Epoch 4/5\n",
      "621/621 [==============================] - 4s 6ms/step - loss: 0.8854\n",
      "Epoch 5/5\n",
      "621/621 [==============================] - 4s 6ms/step - loss: 0.8521\n",
      "Генерация из посева: raphs 1.e.\n",
      "raphs 1.e.1 the hatting the hears was the white rabbit, who was talking to himself in the same thing as i used==================================================\n",
      "Итерация #: 4\n",
      "Epoch 1/5\n",
      "621/621 [==============================] - 4s 6ms/step - loss: 0.8188\n",
      "Epoch 2/5\n",
      "621/621 [==============================] - 4s 6ms/step - loss: 0.7882\n",
      "Epoch 3/5\n",
      "621/621 [==============================] - 4s 6ms/step - loss: 0.7583\n",
      "Epoch 4/5\n",
      "621/621 [==============================] - 4s 6ms/step - loss: 0.7295\n",
      "Epoch 5/5\n",
      "621/621 [==============================] - 4s 6ms/step - loss: 0.7002\n",
      "Генерация из посева: d half of \n",
      "d half of anything to gut them about as all the time when i get it hears and the baby was hownthing heresting ==================================================\n",
      "Итерация #: 5\n",
      "Epoch 1/5\n",
      "621/621 [==============================] - 4s 6ms/step - loss: 0.6744\n",
      "Epoch 2/5\n",
      "621/621 [==============================] - 4s 6ms/step - loss: 0.6495\n",
      "Epoch 3/5\n",
      "621/621 [==============================] - 4s 6ms/step - loss: 0.6248\n",
      "Epoch 4/5\n",
      "621/621 [==============================] - 4s 6ms/step - loss: 0.6017\n",
      "Epoch 5/5\n",
      "621/621 [==============================] - 4s 6ms/step - loss: 0.5812\n",
      "Генерация из посева:  boldly: y\n",
      " boldly: you know the march hare interrupted in a number of changes for she was now about the reason is, she s==================================================\n",
      "Итерация #: 6\n",
      "Epoch 1/5\n",
      "621/621 [==============================] - 4s 6ms/step - loss: 0.5602\n",
      "Epoch 2/5\n",
      "621/621 [==============================] - 4s 6ms/step - loss: 0.5415\n",
      "Epoch 3/5\n",
      "621/621 [==============================] - 4s 6ms/step - loss: 0.5242\n",
      "Epoch 4/5\n",
      "621/621 [==============================] - 4s 6ms/step - loss: 0.5062\n",
      "Epoch 5/5\n",
      "621/621 [==============================] - 4s 6ms/step - loss: 0.4907\n",
      "Генерация из посева: e jurymen.\n",
      "e jurymen. it isnt directed to, and the words and when she noticed that the mouse, sharply and compleaningle f==================================================\n",
      "Итерация #: 7\n",
      "Epoch 1/5\n",
      "621/621 [==============================] - 4s 6ms/step - loss: 0.4769\n",
      "Epoch 2/5\n",
      "621/621 [==============================] - 4s 6ms/step - loss: 0.4621\n",
      "Epoch 3/5\n",
      "621/621 [==============================] - 4s 6ms/step - loss: 0.4510\n",
      "Epoch 4/5\n",
      "621/621 [==============================] - 4s 6ms/step - loss: 0.4398\n",
      "Epoch 5/5\n",
      "621/621 [==============================] - 4s 6ms/step - loss: 0.4279\n",
      "Генерация из посева:  remarked.\n",
      " remarked. there is another long passage, and looking as solemn as she could see, as well as she could see, as==================================================\n",
      "Итерация #: 8\n",
      "Epoch 1/5\n",
      "621/621 [==============================] - 4s 7ms/step - loss: 0.4201\n",
      "Epoch 2/5\n",
      "621/621 [==============================] - 4s 6ms/step - loss: 0.4095\n",
      "Epoch 3/5\n",
      "621/621 [==============================] - 4s 6ms/step - loss: 0.4012\n",
      "Epoch 4/5\n",
      "621/621 [==============================] - 4s 6ms/step - loss: 0.3935\n",
      "Epoch 5/5\n",
      "621/621 [==============================] - 4s 6ms/step - loss: 0.3867\n",
      "Генерация из посева: om for thi\n",
      "om for this, and after a cauldrola:--to pookenge. its a bunnow of it was getting up and was a little bit of st==================================================\n",
      "Итерация #: 9\n",
      "Epoch 1/5\n",
      "621/621 [==============================] - 4s 6ms/step - loss: 0.3791\n",
      "Epoch 2/5\n",
      "621/621 [==============================] - 4s 6ms/step - loss: 0.3748\n",
      "Epoch 3/5\n",
      "621/621 [==============================] - 4s 6ms/step - loss: 0.3693\n",
      "Epoch 4/5\n",
      "621/621 [==============================] - 4s 6ms/step - loss: 0.3628\n",
      "Epoch 5/5\n",
      "621/621 [==============================] - 4s 6ms/step - loss: 0.3590\n",
      "Генерация из посева:  arrum.) a\n",
      " arrum.) an arm, yer honour! digging for apples, year yes! she said to herself that perhaps beginning of the s==================================================\n",
      "Итерация #: 10\n",
      "Epoch 1/5\n",
      "621/621 [==============================] - 4s 6ms/step - loss: 0.3547\n",
      "Epoch 2/5\n",
      "621/621 [==============================] - 4s 6ms/step - loss: 0.3507\n",
      "Epoch 3/5\n",
      "621/621 [==============================] - 4s 6ms/step - loss: 0.3470\n",
      "Epoch 4/5\n",
      "621/621 [==============================] - 4s 6ms/step - loss: 0.3428\n",
      "Epoch 5/5\n",
      "621/621 [==============================] - 4s 6ms/step - loss: 0.3396\n",
      "Генерация из посева:  ill take \n",
      " ill take no denial; we must have a namelar mouth a didnt veny reard have she got into a conversation. are aff==================================================\n",
      "Итерация #: 11\n",
      "Epoch 1/5\n",
      "621/621 [==============================] - 4s 6ms/step - loss: 0.3364\n",
      "Epoch 2/5\n",
      "621/621 [==============================] - 4s 6ms/step - loss: 0.3342\n",
      "Epoch 3/5\n",
      "621/621 [==============================] - 3s 6ms/step - loss: 0.3304\n",
      "Epoch 4/5\n",
      "621/621 [==============================] - 4s 6ms/step - loss: 0.3286\n",
      "Epoch 5/5\n",
      "621/621 [==============================] - 4s 6ms/step - loss: 0.3274\n",
      "Генерация из посева: with his h\n",
      "with his head! or off with his head! or off with his head! or off with his head! or off with his head! or off ==================================================\n",
      "Итерация #: 12\n",
      "Epoch 1/5\n",
      "621/621 [==============================] - 4s 6ms/step - loss: 0.3238\n",
      "Epoch 2/5\n",
      "621/621 [==============================] - 4s 6ms/step - loss: 0.3217\n",
      "Epoch 3/5\n",
      "621/621 [==============================] - 4s 6ms/step - loss: 0.3195\n",
      "Epoch 4/5\n",
      "621/621 [==============================] - 4s 6ms/step - loss: 0.3171\n",
      "Epoch 5/5\n",
      "621/621 [==============================] - 4s 6ms/step - loss: 0.3160\n",
      "Генерация из посева:  chapter i\n",
      " chapter i. the oof were little thing howled so, that alice could not stoop? soup of the evening, beautifully ==================================================\n",
      "Итерация #: 13\n",
      "Epoch 1/5\n",
      "621/621 [==============================] - 4s 6ms/step - loss: 0.3141\n",
      "Epoch 2/5\n",
      "621/621 [==============================] - 4s 6ms/step - loss: 0.3116\n",
      "Epoch 3/5\n",
      "621/621 [==============================] - 4s 7ms/step - loss: 0.3101\n",
      "Epoch 4/5\n",
      "621/621 [==============================] - 4s 6ms/step - loss: 0.3093\n",
      "Epoch 5/5\n",
      "621/621 [==============================] - 4s 6ms/step - loss: 0.3070\n",
      "Генерация из посева: room for h\n",
      "room for her. yes! shouted the queen say only yesterday, because of the works! he added in an undertone to the==================================================\n",
      "Итерация #: 14\n",
      "Epoch 1/5\n",
      "621/621 [==============================] - 4s 6ms/step - loss: 0.3068\n",
      "Epoch 2/5\n",
      "621/621 [==============================] - 4s 6ms/step - loss: 0.3051\n",
      "Epoch 3/5\n",
      "621/621 [==============================] - 4s 6ms/step - loss: 0.3031\n",
      "Epoch 4/5\n",
      "621/621 [==============================] - 4s 6ms/step - loss: 0.3026\n",
      "Epoch 5/5\n",
      "621/621 [==============================] - 4s 6ms/step - loss: 0.3011\n",
      "Генерация из посева: ad (the po\n",
      "ad (the position in dancing. alice said very humble tone, going down on one side, the queen, and in her life b==================================================\n",
      "Итерация #: 15\n",
      "Epoch 1/5\n",
      "621/621 [==============================] - 4s 6ms/step - loss: 0.3004\n",
      "Epoch 2/5\n",
      "621/621 [==============================] - 4s 6ms/step - loss: 0.2986\n",
      "Epoch 3/5\n",
      "621/621 [==============================] - 4s 6ms/step - loss: 0.2983\n",
      "Epoch 4/5\n",
      "621/621 [==============================] - 4s 6ms/step - loss: 0.2965\n",
      "Epoch 5/5\n",
      "621/621 [==============================] - 4s 6ms/step - loss: 0.2955\n",
      "Генерация из посева: ing at the\n",
      "ing at the hatter asked triumphantly. alice did not doen the hatter asked triumphantly. alice did not doen the==================================================\n",
      "Итерация #: 16\n",
      "Epoch 1/5\n",
      "621/621 [==============================] - 4s 6ms/step - loss: 0.2958\n",
      "Epoch 2/5\n",
      "621/621 [==============================] - 4s 6ms/step - loss: 0.2944\n",
      "Epoch 3/5\n",
      "621/621 [==============================] - 4s 6ms/step - loss: 0.2938\n",
      "Epoch 4/5\n",
      "621/621 [==============================] - 4s 6ms/step - loss: 0.2932\n",
      "Epoch 5/5\n",
      "621/621 [==============================] - 4s 6ms/step - loss: 0.2923\n",
      "Генерация из посева: ritated at\n",
      "ritated at the sudden change, but she could not help thinking about in all my limbs very supple by the widest ==================================================\n",
      "Итерация #: 17\n",
      "Epoch 1/5\n",
      "621/621 [==============================] - 4s 6ms/step - loss: 0.2913\n",
      "Epoch 2/5\n",
      "621/621 [==============================] - 4s 6ms/step - loss: 0.2904\n",
      "Epoch 3/5\n",
      "621/621 [==============================] - 4s 6ms/step - loss: 0.2895\n",
      "Epoch 4/5\n",
      "621/621 [==============================] - 4s 6ms/step - loss: 0.2881\n",
      "Epoch 5/5\n",
      "621/621 [==============================] - 4s 6ms/step - loss: 0.2883\n",
      "Генерация из посева: he hatter,\n",
      "he hatter, i cut some more bread-and-butter, and here alice could not make out what it was a little bottle tha==================================================\n",
      "Итерация #: 18\n",
      "Epoch 1/5\n",
      "621/621 [==============================] - 4s 6ms/step - loss: 0.2873\n",
      "Epoch 2/5\n",
      "621/621 [==============================] - 4s 6ms/step - loss: 0.2854\n",
      "Epoch 3/5\n",
      "621/621 [==============================] - 4s 6ms/step - loss: 0.2863\n",
      "Epoch 4/5\n",
      "621/621 [==============================] - 4s 6ms/step - loss: 0.2849\n",
      "Epoch 5/5\n",
      "621/621 [==============================] - 4s 7ms/step - loss: 0.2846\n",
      "Генерация из посева: am lazily \n",
      "am lazily about in a melancholy tone. nobody moved. who cares for fish, game, or any other project gutenberg-t==================================================\n",
      "Итерация #: 19\n",
      "Epoch 1/5\n",
      "621/621 [==============================] - 4s 6ms/step - loss: 0.2834\n",
      "Epoch 2/5\n",
      "621/621 [==============================] - 4s 6ms/step - loss: 0.2838\n",
      "Epoch 3/5\n",
      "621/621 [==============================] - 4s 6ms/step - loss: 0.2821\n",
      "Epoch 4/5\n",
      "621/621 [==============================] - 4s 6ms/step - loss: 0.2809\n",
      "Epoch 5/5\n",
      "621/621 [==============================] - 4s 6ms/step - loss: 0.2808\n",
      "Генерация из посева: so--and wh\n",
      "so--and what work it would not owner leod now you ask me, said alice, who was peeping anxiously about her. oh,==================================================\n",
      "Итерация #: 20\n",
      "Epoch 1/5\n",
      "621/621 [==============================] - 4s 6ms/step - loss: 0.2801\n",
      "Epoch 2/5\n",
      "621/621 [==============================] - 4s 6ms/step - loss: 0.2799\n",
      "Epoch 3/5\n",
      "621/621 [==============================] - 4s 6ms/step - loss: 0.2807\n",
      "Epoch 4/5\n",
      "621/621 [==============================] - 4s 6ms/step - loss: 0.2791\n",
      "Epoch 5/5\n",
      "621/621 [==============================] - 4s 6ms/step - loss: 0.2778\n",
      "Генерация из посева:  particula\n",
      " particular state the sentenced were taken into custody by the simple and looked at her rather inquisitively, ==================================================\n",
      "Итерация #: 21\n",
      "Epoch 1/5\n",
      "621/621 [==============================] - 4s 6ms/step - loss: 0.2769\n",
      "Epoch 2/5\n",
      "621/621 [==============================] - 4s 6ms/step - loss: 0.2779\n",
      "Epoch 3/5\n",
      "621/621 [==============================] - 4s 6ms/step - loss: 0.2773\n",
      "Epoch 4/5\n",
      "621/621 [==============================] - 4s 6ms/step - loss: 0.2771\n",
      "Epoch 5/5\n",
      "621/621 [==============================] - 4s 6ms/step - loss: 0.2758\n",
      "Генерация из посева:  of hersel\n",
      " of herself, and once she remembered trying to put the dormouse in a long, low hall, which was immediately sup==================================================\n",
      "Итерация #: 22\n",
      "Epoch 1/5\n",
      "621/621 [==============================] - 4s 6ms/step - loss: 0.2758\n",
      "Epoch 2/5\n",
      "621/621 [==============================] - 4s 6ms/step - loss: 0.2742\n",
      "Epoch 3/5\n",
      "621/621 [==============================] - 4s 6ms/step - loss: 0.2757\n",
      "Epoch 4/5\n",
      "621/621 [==============================] - 4s 6ms/step - loss: 0.2745\n",
      "Epoch 5/5\n",
      "621/621 [==============================] - 4s 6ms/step - loss: 0.2724\n",
      "Генерация из посева: e march ha\n",
      "e march hare said-- i didnt know that cheshire cat, she was a good deal worse off than! youdere that dory, and==================================================\n",
      "Итерация #: 23\n",
      "Epoch 1/5\n",
      "621/621 [==============================] - 4s 6ms/step - loss: 0.2729\n",
      "Epoch 2/5\n",
      "621/621 [==============================] - 4s 6ms/step - loss: 0.2722\n",
      "Epoch 3/5\n",
      "621/621 [==============================] - 4s 6ms/step - loss: 0.2720\n",
      "Epoch 4/5\n",
      "621/621 [==============================] - 4s 6ms/step - loss: 0.2720\n",
      "Epoch 5/5\n",
      "621/621 [==============================] - 4s 6ms/step - loss: 0.2710\n",
      "Генерация из посева: least idea\n",
      "least idea what to do, and in distributing project gutenberg-tm electronic works provided that - you pay a roy==================================================\n",
      "Итерация #: 24\n",
      "Epoch 1/5\n",
      "621/621 [==============================] - 4s 7ms/step - loss: 0.2713\n",
      "Epoch 2/5\n",
      "621/621 [==============================] - 4s 6ms/step - loss: 0.2714\n",
      "Epoch 3/5\n",
      "621/621 [==============================] - 4s 6ms/step - loss: 0.2702\n",
      "Epoch 4/5\n",
      "621/621 [==============================] - 4s 6ms/step - loss: 0.2706\n",
      "Epoch 5/5\n",
      "621/621 [==============================] - 4s 6ms/step - loss: 0.2698\n",
      "Генерация из посева: in. this a\n",
      "in. this answer so confused poor alice, who always took a great interest in questions of eating and drinking. ==================================================\n",
      "Итерация #: 25\n",
      "Epoch 1/5\n",
      "621/621 [==============================] - 4s 6ms/step - loss: 0.2688\n",
      "Epoch 2/5\n",
      "621/621 [==============================] - 4s 6ms/step - loss: 0.2692\n",
      "Epoch 3/5\n",
      "621/621 [==============================] - 4s 6ms/step - loss: 0.2679\n",
      "Epoch 4/5\n",
      "621/621 [==============================] - 4s 6ms/step - loss: 0.2681\n",
      "Epoch 5/5\n",
      "621/621 [==============================] - 4s 6ms/step - loss: 0.2675\n",
      "Генерация из посева: ss; there \n",
      "ss; there was a good deal worse off than before, and held it out to be a grin, and she went on, what would be ==================================================\n",
      "Итерация #: 26\n",
      "Epoch 1/5\n",
      "621/621 [==============================] - 4s 6ms/step - loss: 0.2665\n",
      "Epoch 2/5\n",
      "621/621 [==============================] - 4s 6ms/step - loss: 0.2663\n",
      "Epoch 3/5\n",
      "621/621 [==============================] - 4s 6ms/step - loss: 0.2668\n",
      "Epoch 4/5\n",
      "621/621 [==============================] - 4s 6ms/step - loss: 0.2658\n",
      "Epoch 5/5\n",
      "621/621 [==============================] - 4s 6ms/step - loss: 0.2662\n",
      "Генерация из посева: e of heart\n",
      "e of hearts, and took the hookah out of its waistcoat-pocket, or a watch to take out of its waistcoat-pocket, ==================================================\n",
      "Итерация #: 27\n",
      "Epoch 1/5\n",
      "621/621 [==============================] - 4s 6ms/step - loss: 0.2657\n",
      "Epoch 2/5\n",
      "621/621 [==============================] - 4s 6ms/step - loss: 0.2652\n",
      "Epoch 3/5\n",
      "621/621 [==============================] - 4s 6ms/step - loss: 0.2642\n",
      "Epoch 4/5\n",
      "621/621 [==============================] - 4s 6ms/step - loss: 0.2640\n",
      "Epoch 5/5\n",
      "621/621 [==============================] - 4s 6ms/step - loss: 0.2643\n",
      "Генерация из посева: w why its \n",
      "w why its called a whiting. now you know. it was, no doubt, and very soon the rabbit as he furrted on the bree==================================================\n",
      "Итерация #: 28\n",
      "Epoch 1/5\n",
      "621/621 [==============================] - 4s 6ms/step - loss: 0.2635\n",
      "Epoch 2/5\n",
      "621/621 [==============================] - 4s 6ms/step - loss: 0.2642\n",
      "Epoch 3/5\n",
      "621/621 [==============================] - 4s 6ms/step - loss: 0.2636\n",
      "Epoch 4/5\n",
      "621/621 [==============================] - 4s 6ms/step - loss: 0.2633\n",
      "Epoch 5/5\n",
      "621/621 [==============================] - 4s 6ms/step - loss: 0.2628\n",
      "Генерация из посева:  direction\n",
      " direction, the cat wend on to speples of the well, and noticed that the best butter, the march hare went on. ==================================================\n",
      "Итерация #: 29\n",
      "Epoch 1/5\n",
      "621/621 [==============================] - 4s 6ms/step - loss: 0.2619\n",
      "Epoch 2/5\n",
      "621/621 [==============================] - 4s 6ms/step - loss: 0.2619\n",
      "Epoch 3/5\n",
      "621/621 [==============================] - 4s 7ms/step - loss: 0.2617\n",
      "Epoch 4/5\n",
      "621/621 [==============================] - 4s 6ms/step - loss: 0.2613\n",
      "Epoch 5/5\n",
      "621/621 [==============================] - 4s 6ms/step - loss: 0.2616\n",
      "Генерация из посева:  certain! \n",
      " certain! i did the conversations in locations where we have not met the solicitation requirements of paragrap"
     ]
    }
   ],
   "source": [
    "# выполнение серий тренировочных и демонстрационных итераций \n",
    "for iteration in range(NUM_ITERATIONS):\n",
    "\n",
    "    # для каждой итерации запуск передачи данных в модель \n",
    "    print(\"=\" * 50)\n",
    "    print(\"Итерация #: %d\" % (iteration))\n",
    "    model.fit(X, y, batch_size=BATCH_SIZE, epochs=NUM_EPOCHS_PER_ITERATION)\n",
    "\n",
    "    # Select a random example input sequence.\n",
    "    test_idx = np.random.randint(len(input_chars))\n",
    "    test_chars = input_chars[test_idx]\n",
    "\n",
    "    # для числа шагов предсказаний использование текущей тренируемой модели \n",
    "    # конструирование one-hot encoding для тестирования input и добавление предсказания.\n",
    "    print(\"Генерация из посева: %s\" % (test_chars))\n",
    "    print(test_chars, end=\"\")\n",
    "    for i in range(NUM_PREDS_PER_EPOCH):\n",
    "\n",
    "        # здесь one-hot encoding.\n",
    "        X_test = np.zeros((1, SEQLEN, nb_chars))\n",
    "        for j, ch in enumerate(test_chars):\n",
    "            X_test[0, j, char2index[ch]] = 1\n",
    "\n",
    "        # осуществление предсказания с помощью текущей модели.\n",
    "        pred = model.predict(X_test, verbose=0)[0]\n",
    "        y_pred = index2char[np.argmax(pred)]\n",
    "\n",
    "        # вывод предсказания добавленного к тестовому примеру \n",
    "        print(y_pred, end=\"\")\n",
    "\n",
    "        # инкрементация тестового примера содержащего предсказание\n",
    "        test_chars = test_chars[1:] + y_pred"
   ]
  },
  {
   "cell_type": "code",
   "execution_count": 78,
   "metadata": {
    "colab": {
     "base_uri": "https://localhost:8080/"
    },
    "id": "4FdU7yMAEwh4",
    "outputId": "01d246e4-96d9-48f8-b35d-d4e782427ac7"
   },
   "outputs": [
    {
     "data": {
      "text/plain": [
       "(158753, 55)"
      ]
     },
     "execution_count": 78,
     "metadata": {},
     "output_type": "execute_result"
    }
   ],
   "source": [
    "y.shape"
   ]
  },
  {
   "cell_type": "markdown",
   "metadata": {},
   "source": [
    "Вывод:"
   ]
  },
  {
   "cell_type": "markdown",
   "metadata": {},
   "source": [
    "1. Попробуйте изменить параметры нейронной сети, работающей с датасетом imdb, либонейронной сети, работающей airline-passengers (она прилагается вместе с датасетом к уроку в виде отдельного скрипта) так, чтобы улучшить её точность. Приложите анализ."
   ]
  },
  {
   "cell_type": "markdown",
   "metadata": {},
   "source": [
    "Анализ:\n",
    "- Удалось добиться незначительного улучшения точности модели;\n",
    "- Прослеживается быстрое переобучение модели;\n",
    "- Наиболее стабильный результат достигается при помощи оптимизатора RMSprop с плавным уменьшением learning_rate;\n",
    "- Изменение других параметров не способствуют повышению точности."
   ]
  },
  {
   "cell_type": "markdown",
   "metadata": {},
   "source": [
    "2. Попробуйте изменить параметры нейронной сети, генерирующей текст таким образом, чтобы добиться генерации как можно более осмысленного текста. Пришлите лучший текст из получившихся и опишите предпринятые для его получения действия. Можно использовать текст другого произведения."
   ]
  },
  {
   "cell_type": "markdown",
   "metadata": {},
   "source": [
    "Оптимальные параметры (в виду того, что loss перестает умешьшаться):\n",
    "- SEQLEN = 10;\n",
    "- batch_size = 258;\n",
    "- num_iterations = 30;\n",
    "- num_epoch_per_iteration = 5."
   ]
  },
  {
   "cell_type": "markdown",
   "metadata": {},
   "source": [
    "Пример генерации:\n",
    "\n",
    "Генерация из посева: certain!\n",
    "\n",
    "certain! i did the conversations in locations where we have not met the solicitation requirements of paragraph\n",
    "\n",
    "Перевод: определенный! я вел разговоры в местах, где мы не выполнили требования параграфа"
   ]
  },
  {
   "cell_type": "code",
   "execution_count": null,
   "metadata": {},
   "outputs": [],
   "source": []
  }
 ],
 "metadata": {
  "accelerator": "GPU",
  "colab": {
   "authorship_tag": "ABX9TyO29R/DUyXqIXW9qu8aUcWO",
   "collapsed_sections": [],
   "include_colab_link": true,
   "name": "ДЗ_5.ipynb",
   "provenance": []
  },
  "gpuClass": "standard",
  "kernelspec": {
   "display_name": "Python 3 (ipykernel)",
   "language": "python",
   "name": "python3"
  },
  "language_info": {
   "codemirror_mode": {
    "name": "ipython",
    "version": 3
   },
   "file_extension": ".py",
   "mimetype": "text/x-python",
   "name": "python",
   "nbconvert_exporter": "python",
   "pygments_lexer": "ipython3",
   "version": "3.9.7"
  }
 },
 "nbformat": 4,
 "nbformat_minor": 1
}
