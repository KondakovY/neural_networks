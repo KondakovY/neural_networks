{
 "cells": [
  {
   "cell_type": "markdown",
   "metadata": {},
   "source": [
    "### Домашнее задание"
   ]
  },
  {
   "cell_type": "markdown",
   "metadata": {},
   "source": [
    "1) Попробуйте обучить, нейронную сеть на Keras (рассмотренную на уроке) на датасете MNIST с другими параметрами. Напишите в комментарии к уроку:\n",
    "- Какого результата вы добились от нейросети?\n",
    "- Что помогло вам улучшить её точность?\n",
    "\n",
    "2) Поработайте с документацией Keras. Попробуйте найти полезные команды Keras, неразобранные на уроке."
   ]
  },
  {
   "cell_type": "markdown",
   "metadata": {},
   "source": [
    "## Базовая модель "
   ]
  },
  {
   "cell_type": "code",
   "execution_count": 8,
   "metadata": {},
   "outputs": [
    {
     "name": "stdout",
     "output_type": "stream",
     "text": [
      "Epoch 1/5\n",
      "1875/1875 [==============================] - 1s 581us/step - loss: 0.3585 - accuracy: 0.8934\n",
      "Epoch 2/5\n",
      "1875/1875 [==============================] - 1s 573us/step - loss: 0.1890 - accuracy: 0.9431\n",
      "Epoch 3/5\n",
      "1875/1875 [==============================] - 1s 560us/step - loss: 0.1476 - accuracy: 0.9543\n",
      "Epoch 4/5\n",
      "1875/1875 [==============================] - 1s 571us/step - loss: 0.1236 - accuracy: 0.9625\n",
      "Epoch 5/5\n",
      "1875/1875 [==============================] - 1s 651us/step - loss: 0.1105 - accuracy: 0.9654\n",
      "313/313 [==============================] - 0s 477us/step - loss: 0.1393 - accuracy: 0.9568\n",
      "[7 2 1 0 4]\n",
      "[7 2 1 0 4]\n"
     ]
    }
   ],
   "source": [
    "import numpy as np\n",
    "import mnist\n",
    "from keras.models import Sequential\n",
    "from keras.layers import Dense\n",
    "from keras.utils import to_categorical\n",
    "\n",
    "train_images = mnist.train_images()\n",
    "train_labels = mnist.train_labels()\n",
    "test_images = mnist.test_images()\n",
    "test_labels = mnist.test_labels()\n",
    "\n",
    "\n",
    "train_images = (train_images / 255) - 0.5\n",
    "test_images = (test_images / 255) - 0.5\n",
    "\n",
    "\n",
    "train_images = train_images.reshape((-1, 784))\n",
    "test_images = test_images.reshape((-1, 784))\n",
    "\n",
    "\n",
    "model = Sequential([\n",
    "  Dense(64, activation='relu', input_shape=(784,)),\n",
    "  Dense(64, activation='relu'),\n",
    "  Dense(10, activation='softmax'),\n",
    "])\n",
    "\n",
    "\n",
    "model.compile(\n",
    "  optimizer='adam',\n",
    "  loss='categorical_crossentropy',\n",
    "  metrics=['accuracy'],\n",
    ")\n",
    "\n",
    "\n",
    "model.fit(\n",
    "  train_images,\n",
    "  to_categorical(train_labels),\n",
    "  epochs=5,\n",
    "  batch_size=32,\n",
    ")\n",
    "\n",
    "\n",
    "model.evaluate(\n",
    "  test_images,\n",
    "  to_categorical(test_labels)\n",
    ")\n",
    "\n",
    "\n",
    "model.save_weights('model.h5')\n",
    "\n",
    "\n",
    "predictions = model.predict(test_images[:5])\n",
    "\n",
    "print(np.argmax(predictions, axis=1)) # [7, 2, 1, 0, 4]\n",
    "\n",
    "print(test_labels[:5]) # [7, 2, 1, 0, 4]"
   ]
  },
  {
   "cell_type": "markdown",
   "metadata": {},
   "source": [
    "## Улучшенная модель "
   ]
  },
  {
   "cell_type": "markdown",
   "metadata": {},
   "source": [
    "1) Попробуйте обучить, нейронную сеть на Keras (рассмотренную на уроке) на датасете MNIST с другими параметрами. Напишите в комментарии к уроку:"
   ]
  },
  {
   "cell_type": "code",
   "execution_count": 11,
   "metadata": {},
   "outputs": [
    {
     "name": "stdout",
     "output_type": "stream",
     "text": [
      "Epoch 1/10\n",
      "1875/1875 [==============================] - 1s 718us/step - loss: 0.3613 - accuracy: 0.8892\n",
      "Epoch 2/10\n",
      "1875/1875 [==============================] - 1s 613us/step - loss: 0.1789 - accuracy: 0.9451\n",
      "Epoch 3/10\n",
      "1875/1875 [==============================] - 1s 609us/step - loss: 0.1369 - accuracy: 0.9573\n",
      "Epoch 4/10\n",
      "1875/1875 [==============================] - 1s 643us/step - loss: 0.1154 - accuracy: 0.9641\n",
      "Epoch 5/10\n",
      "1875/1875 [==============================] - 1s 655us/step - loss: 0.1010 - accuracy: 0.9683\n",
      "Epoch 6/10\n",
      "1875/1875 [==============================] - 1s 606us/step - loss: 0.0914 - accuracy: 0.9717\n",
      "Epoch 7/10\n",
      "1875/1875 [==============================] - 1s 601us/step - loss: 0.0824 - accuracy: 0.9742\n",
      "Epoch 8/10\n",
      "1875/1875 [==============================] - 1s 633us/step - loss: 0.0742 - accuracy: 0.9763\n",
      "Epoch 9/10\n",
      "1875/1875 [==============================] - 1s 606us/step - loss: 0.0690 - accuracy: 0.9774\n",
      "Epoch 10/10\n",
      "1875/1875 [==============================] - 1s 615us/step - loss: 0.0630 - accuracy: 0.9798\n",
      "313/313 [==============================] - 0s 509us/step - loss: 0.0969 - accuracy: 0.9713\n",
      "[7 2 1 0 4]\n",
      "[7 2 1 0 4]\n"
     ]
    }
   ],
   "source": [
    "import numpy as np\n",
    "import mnist\n",
    "from keras.models import Sequential\n",
    "from keras.layers import Dense\n",
    "from keras.utils import to_categorical\n",
    "\n",
    "train_images = mnist.train_images()\n",
    "train_labels = mnist.train_labels()\n",
    "test_images = mnist.test_images()\n",
    "test_labels = mnist.test_labels()\n",
    "\n",
    "\n",
    "train_images = (train_images / 255) - 0.5\n",
    "test_images = (test_images / 255) - 0.5\n",
    "\n",
    "\n",
    "train_images = train_images.reshape((-1, 784))\n",
    "test_images = test_images.reshape((-1, 784))\n",
    "\n",
    "\n",
    "model = Sequential([\n",
    "  Dense(64, activation='relu', input_shape=(784,)),\n",
    "  Dense(64, activation='relu'),\n",
    "  Dense(64, activation='relu'),\n",
    "  Dense(10, activation='softmax'),\n",
    "])\n",
    "\n",
    "\n",
    "model.compile(\n",
    "  optimizer='adam',\n",
    "  loss='categorical_crossentropy',\n",
    "  metrics=['accuracy'],\n",
    ")\n",
    "\n",
    "\n",
    "model.fit(\n",
    "  train_images,\n",
    "  to_categorical(train_labels),\n",
    "  epochs=10,\n",
    "  batch_size=32,\n",
    ")\n",
    "\n",
    "\n",
    "model.evaluate(\n",
    "  test_images,\n",
    "  to_categorical(test_labels)\n",
    ")\n",
    "\n",
    "\n",
    "model.save_weights('model_better.h5')\n",
    "\n",
    "predictions = model.predict(test_images[:5])\n",
    "\n",
    "print(np.argmax(predictions, axis=1)) # [7, 2, 1, 0, 4]\n",
    "\n",
    "\n",
    "print(test_labels[:5]) # [7, 2, 1, 0, 4]"
   ]
  },
  {
   "cell_type": "markdown",
   "metadata": {},
   "source": [
    "- Что помогло вам улучшить её точность?:"
   ]
  },
  {
   "cell_type": "markdown",
   "metadata": {},
   "source": [
    "1.Увеличил количество эпох;\n",
    "\n",
    "2.Добавил один слой."
   ]
  },
  {
   "cell_type": "markdown",
   "metadata": {},
   "source": [
    "- Какого результата вы добились от нейросети?"
   ]
  },
  {
   "cell_type": "markdown",
   "metadata": {},
   "source": [
    "1. Увеличение точности модели до 0.9713;\n",
    "\n",
    "2. Сокращение loss до 0.0969."
   ]
  },
  {
   "cell_type": "markdown",
   "metadata": {},
   "source": [
    "2) Поработайте с документацией Keras. Попробуйте найти полезные команды Keras, неразобранные на уроке:"
   ]
  },
  {
   "cell_type": "markdown",
   "metadata": {},
   "source": [
    "- Callbacks\n",
    "\n",
    "Callbacks — это набор функций, которые будут применяться на заданных этапах процедуры обучения. Callbacks можно использовать, чтобы получить представление о внутреннем состоянии модели во время обучения."
   ]
  },
  {
   "cell_type": "markdown",
   "metadata": {},
   "source": [
    "- TensorBoard — инструмент визуализации.\n",
    "\n",
    "Этот callback регистрирует события для TensorBoard, в том числе:\n",
    "\n",
    "    1.Сводные графики показателей\n",
    "    2.Визуализация тренировочного графика\n",
    "    3.Гистограммы веса\n",
    "    4.Выборочное профилирование\n"
   ]
  },
  {
   "cell_type": "code",
   "execution_count": null,
   "metadata": {},
   "outputs": [],
   "source": []
  }
 ],
 "metadata": {
  "kernelspec": {
   "display_name": "Python 3 (ipykernel)",
   "language": "python",
   "name": "python3"
  },
  "language_info": {
   "codemirror_mode": {
    "name": "ipython",
    "version": 3
   },
   "file_extension": ".py",
   "mimetype": "text/x-python",
   "name": "python",
   "nbconvert_exporter": "python",
   "pygments_lexer": "ipython3",
   "version": "3.9.7"
  }
 },
 "nbformat": 4,
 "nbformat_minor": 2
}
